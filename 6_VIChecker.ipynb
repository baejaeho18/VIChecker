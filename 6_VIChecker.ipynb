{
 "cells": [
  {
   "cell_type": "code",
   "execution_count": null,
   "id": "b643ceec",
   "metadata": {},
   "outputs": [],
   "source": [
    "import nbimporter\n",
    "import 1_git-repo-cloner\n",
    "\n",
    "def back_to_root():\n",
    "    root = os.getcwd()\n",
    "    os.chdir(root)"
   ]
  },
  {
   "cell_type": "code",
   "execution_count": null,
   "id": "ca2577a4",
   "metadata": {},
   "outputs": [],
   "source": [
    "back_to_root()\n",
    "\n",
    "project_list_file = \"projectLIst.txt\"\n",
    "project_list = 1_git-repo-cloner.get_repo_path(project_list_file)\n",
    "\n",
    "1_git-repo-cloner.clone_project_and_update_gitignore(project_list)"
   ]
  },
  {
   "cell_type": "code",
   "execution_count": null,
   "id": "3e3d40b9",
   "metadata": {},
   "outputs": [],
   "source": [
    "import 2_git-commit-logger\n",
    "\n",
    "back_to_root()\n",
    "\n",
    "output_directory = \"commit-logs\"\n",
    "if not os.path.exists(output_directory):\n",
    "    os.makedirs(output_directory)\n",
    "    \n",
    "# commid_logger(project_list)\n",
    "add_changed_file_list(project_list, output_directory)"
   ]
  },
  {
   "cell_type": "code",
   "execution_count": null,
   "id": "2fc46ae2",
   "metadata": {},
   "outputs": [],
   "source": [
    "import 3_git-file-tracker\n",
    "\n",
    "back_to_root()\n",
    "\n",
    "output_directory = \"commit-files\"\n",
    "if not os.path.exists(output_directory):\n",
    "    os.makedirs(output_directory)\n",
    "    \n",
    "file_tracker(project_list, output_directory)"
   ]
  },
  {
   "cell_type": "code",
   "execution_count": null,
   "id": "c07335c0",
   "metadata": {},
   "outputs": [],
   "source": [
    "import 4_gpt-responser\n",
    "\n",
    "back_to_root()\n",
    "\n",
    "gpt_api_model = \"gpt-4\"\n",
    "openai.api_key = get_api_key()\n",
    "\n",
    "working_directory = \"commit-files\"\n",
    "os.chdir(working_directory)\n",
    "\n",
    "for directory in project_list:\n",
    "    os.chdir(directory)\n",
    "    gpt_response_java_files(gpt_api_model)\n",
    "    # gpt_response_diff_files(gpt_api_model)\n",
    "    os.chdir(\"..\")\n",
    "    \n",
    "os.chdir(\"..\")"
   ]
  },
  {
   "cell_type": "code",
   "execution_count": 1,
   "id": "3bf017b8",
   "metadata": {},
   "outputs": [
    {
     "ename": "SyntaxError",
     "evalue": "invalid decimal literal (2525521051.py, line 1)",
     "output_type": "error",
     "traceback": [
      "\u001b[1;36m  Cell \u001b[1;32mIn[1], line 1\u001b[1;36m\u001b[0m\n\u001b[1;33m    import 5_save2sheet\u001b[0m\n\u001b[1;37m            ^\u001b[0m\n\u001b[1;31mSyntaxError\u001b[0m\u001b[1;31m:\u001b[0m invalid decimal literal\n"
     ]
    }
   ],
   "source": [
    "import 5_save2sheet\n",
    "\n",
    "back_to_root()\n",
    "\n",
    "output_directory = \"commit-sheets\"\n",
    "if not os.path.exists(output_directory):\n",
    "    os.makedirs(output_directory)\n",
    "\n",
    "    \n",
    "working_directory = \"commit-files\"\n",
    "os.chdir(working_directory)\n",
    "\n",
    "for directory in project_list:\n",
    "    os.chdir(directory)\n",
    "    comits_to_sheet(directory, output_directory)\n",
    "    os.chdir(\"..\")\n",
    "    \n",
    "print(\"모든 작업이 완료되었습니다.\")\n",
    "os.chdir(\"..\")"
   ]
  },
  {
   "cell_type": "code",
   "execution_count": null,
   "id": "0a1e0a58",
   "metadata": {},
   "outputs": [],
   "source": [
    "back_to_root()"
   ]
  }
 ],
 "metadata": {
  "kernelspec": {
   "display_name": "Python 3 (ipykernel)",
   "language": "python",
   "name": "python3"
  },
  "language_info": {
   "codemirror_mode": {
    "name": "ipython",
    "version": 3
   },
   "file_extension": ".py",
   "mimetype": "text/x-python",
   "name": "python",
   "nbconvert_exporter": "python",
   "pygments_lexer": "ipython3",
   "version": "3.11.4"
  }
 },
 "nbformat": 4,
 "nbformat_minor": 5
}
