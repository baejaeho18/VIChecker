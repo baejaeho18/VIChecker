{
 "cells": [
  {
   "cell_type": "code",
   "execution_count": null,
   "id": "b643ceec",
   "metadata": {},
   "outputs": [],
   "source": [
    "import nbimporter\n",
    "import 1_git-repo-cloner\n",
    "import 2_git-commit-logger\n",
    "import 3_git-file-tracker\n",
    "import 4_gpt-responser\n",
    "import 5_save2sheet\n",
    "\n",
    "\n",
    "if __name__ == \"__main__\":\n",
    "    project_list_file = \"projectLIst.txt\"\n",
    "    \n",
    "    project_list = 1_git-repo-cloner.get_repo_path(project_list_file)\n",
    "    1_git-repo-cloner.clone_project_and_update_gitignore(project_list)\n",
    "    \n",
    "    "
   ]
  }
 ],
 "metadata": {
  "kernelspec": {
   "display_name": "Python 3 (ipykernel)",
   "language": "python",
   "name": "python3"
  },
  "language_info": {
   "codemirror_mode": {
    "name": "ipython",
    "version": 3
   },
   "file_extension": ".py",
   "mimetype": "text/x-python",
   "name": "python",
   "nbconvert_exporter": "python",
   "pygments_lexer": "ipython3",
   "version": "3.11.4"
  }
 },
 "nbformat": 4,
 "nbformat_minor": 5
}
