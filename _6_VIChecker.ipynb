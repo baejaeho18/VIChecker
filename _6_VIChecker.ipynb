{
 "cells": [
  {
   "cell_type": "code",
   "execution_count": null,
   "id": "b643ceec",
   "metadata": {},
   "outputs": [],
   "source": [
    "import os\n",
    "import nbimporter\n",
    "\n",
    "def back_to_root():\n",
    "    root = os.getcwd()\n",
    "    os.chdir(root)"
   ]
  },
  {
   "cell_type": "code",
   "execution_count": null,
   "id": "2dafadcf",
   "metadata": {},
   "outputs": [],
   "source": [
    "import _1_git_repo_cloner as cloner\n",
    "\n",
    "# Return to the root directory\n",
    "back_to_root()\n",
    "\n",
    "# Get all Git repositories paths saved in projectList.txt and clone them\n",
    "project_list_file = \"projectList.txt\"\n",
    "project_urls = cloner.get_repo_path(project_list_file)\n",
    "\n",
    "# Clone the projects and update the .gitignore file with their directory names\n",
    "project_list = cloner.clone_project_and_update_gitignore(project_urls)\n"
   ]
  },
  {
   "cell_type": "code",
   "execution_count": null,
   "id": "3ec18237",
   "metadata": {},
   "outputs": [],
   "source": [
    "import _2_git_commit_logger as logger\n",
    "\n",
    "# Return to the root directory\n",
    "back_to_root()\n",
    "\n",
    "# Create a directory to store commit logs in JSON format\n",
    "output_directory = \"commit-logs\"\n",
    "if not os.path.exists(output_directory):\n",
    "    os.makedirs(output_directory)\n",
    "    \n",
    "# Log commits and save commit information in JSON format\n",
    "# commid_logger(project_list) # Currently done manually\n",
    "logger.add_changed_file_list(project_list, output_directory)\n"
   ]
  },
  {
   "cell_type": "code",
   "execution_count": null,
   "id": "d23b7845",
   "metadata": {},
   "outputs": [],
   "source": [
    "import _3_git_file_tracker as tracker\n",
    "\n",
    "# Return to the root directory\n",
    "back_to_root()\n",
    "\n",
    "# Create a directory to store modified Java files and their diff files at commit points\n",
    "output_directory = \"commit-files\"\n",
    "if not os.path.exists(output_directory):\n",
    "    os.makedirs(output_directory)\n",
    "    \n",
    "# Track and save modified Java files and their diff files at commit points\n",
    "tracker.file_tracker(project_list, output_directory)\n"
   ]
  },
  {
   "cell_type": "code",
   "execution_count": null,
   "id": "cefbc6ff",
   "metadata": {},
   "outputs": [],
   "source": [
    "# import openai\n",
    "import _4_gpt_responser as responser\n",
    "\n",
    "# Return to the root directory\n",
    "back_to_root()\n",
    "\n",
    "# Set up the GPT-4 model and API key\n",
    "gpt_api_model = \"gpt-4-0613\"\n",
    "openai.api_key = responser.get_api_key()\n",
    "\n",
    "working_directory = \"commit-files\"\n",
    "os.chdir(working_directory)\n",
    "\n",
    "# Iterate through project directories\n",
    "for directory in project_list:\n",
    "    os.chdir(directory)\n",
    "    responser.get_response_java_files(gpt_api_model)\n",
    "    # responser.get_response_diff_files(gpt_api_model) # Uncomment this line if needed\n",
    "    os.chdir(\"..\")\n",
    "    \n",
    "os.chdir(\"..\")\n"
   ]
  },
  {
   "cell_type": "code",
   "execution_count": null,
   "id": "91c29dc7",
   "metadata": {},
   "outputs": [],
   "source": [
    "import _5_save2sheet as storer\n",
    "\n",
    "# Return to the root directory\n",
    "back_to_root()\n",
    "\n",
    "# Create a directory to store query files and responses in Excel format\n",
    "output_directory = \"commit-sheets\"\n",
    "if not os.path.exists(output_directory):\n",
    "    os.makedirs(output_directory)\n",
    "\n",
    "working_directory = \"commit-files\"\n",
    "os.chdir(working_directory)\n",
    "\n",
    "# Iterate through project directories\n",
    "for directory in project_list:\n",
    "    os.chdir(directory)\n",
    "    storer.commits_to_sheet(directory, output_directory, \"after\")\n",
    "    os.chdir(\"..\")\n",
    "    \n",
    "print(\"All tasks have been completed.\")\n",
    "os.chdir(\"..\")\n"
   ]
  },
  {
   "cell_type": "code",
   "execution_count": null,
   "id": "c471572b",
   "metadata": {},
   "outputs": [],
   "source": [
    "back_to_root()"
   ]
  },
  {
   "cell_type": "code",
   "execution_count": null,
   "id": "9a4f7e3d",
   "metadata": {},
   "outputs": [],
   "source": [
    "os.getcwd()"
   ]
  },
  {
   "cell_type": "code",
   "execution_count": null,
   "id": "fa8c5619",
   "metadata": {},
   "outputs": [],
   "source": [
    "print(project_list)"
   ]
  },
  {
   "cell_type": "code",
   "execution_count": null,
   "id": "b18036c2",
   "metadata": {},
   "outputs": [],
   "source": [
    "os.chdir(\"..\")"
   ]
  },
  {
   "cell_type": "code",
   "execution_count": null,
   "id": "84621f92",
   "metadata": {},
   "outputs": [],
   "source": [
    "project_list = [\"pgjdbc\"]"
   ]
  },
  {
   "cell_type": "code",
   "execution_count": null,
   "id": "72bfa510",
   "metadata": {},
   "outputs": [],
   "source": []
  }
 ],
 "metadata": {
  "kernelspec": {
   "display_name": "Python 3 (ipykernel)",
   "language": "python",
   "name": "python3"
  },
  "language_info": {
   "codemirror_mode": {
    "name": "ipython",
    "version": 3
   },
   "file_extension": ".py",
   "mimetype": "text/x-python",
   "name": "python",
   "nbconvert_exporter": "python",
   "pygments_lexer": "ipython3",
   "version": "3.11.4"
  }
 },
 "nbformat": 4,
 "nbformat_minor": 5
}
