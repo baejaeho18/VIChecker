{
 "cells": [
  {
   "cell_type": "code",
   "execution_count": 3,
   "id": "b643ceec",
   "metadata": {},
   "outputs": [],
   "source": [
    "import os\n",
    "import nbimporter\n",
    "\n",
    "def back_to_root():\n",
    "    root = os.getcwd()\n",
    "    os.chdir(root)"
   ]
  },
  {
   "cell_type": "code",
   "execution_count": 8,
   "id": "2dafadcf",
   "metadata": {},
   "outputs": [
    {
     "name": "stdout",
     "output_type": "stream",
     "text": [
      "['https://github.com/junit-team/junit4.git\\n', 'https://github.com/h2database/h2database.git\\n', 'https://github.com/google/gson.git\\n', 'https://github.com/google/guava.git\\n', 'https://github.com/bcgit/bc-java.git\\n', 'https://github.com/pgjdbc/pgjdbc.git\\n']\n",
      "junit4 프로젝트를 fetch하고, .gitignore를 업데이트했습니다.\n",
      "h2database 프로젝트를 fetch하고, .gitignore를 업데이트했습니다.\n",
      "gson 프로젝트를 fetch하고, .gitignore를 업데이트했습니다.\n",
      "guava 프로젝트를 fetch하고, .gitignore를 업데이트했습니다.\n",
      "bc-java 프로젝트를 fetch하고, .gitignore를 업데이트했습니다.\n",
      "pgjdbc 프로젝트를 fetch하고, .gitignore를 업데이트했습니다.\n",
      "클론이 모두 완료되었습니다.\n"
     ]
    }
   ],
   "source": [
    "import _1_git_repo_cloner as cloner\n",
    "\n",
    "back_to_root()\n",
    "\n",
    "# projectList.txt에 저장된 git repo path를 전부 clone 받음\n",
    "project_list_file = \"projectLIst.txt\"\n",
    "project_urls = cloner.get_repo_path(project_list_file)\n",
    "# clone 받은 project 디렉토리명들을 project_list에 저장함\n",
    "project_list = cloner.clone_project_and_update_gitignore(project_urls)"
   ]
  },
  {
   "cell_type": "code",
   "execution_count": null,
   "id": "3ec18237",
   "metadata": {},
   "outputs": [],
   "source": [
    "import _2_git_commit_logger as logger\n",
    "\n",
    "back_to_root()\n",
    "\n",
    "# commit-logs폴더에 json형식으로 커밋 정보를 저장\n",
    "output_directory = \"commit-logs\"\n",
    "if not os.path.exists(output_directory):\n",
    "    os.makedirs(output_directory)\n",
    "    \n",
    "# commid_logger(project_list) # 현재 수작업\n",
    "logger.add_changed_file_list(project_list, output_directory)"
   ]
  },
  {
   "cell_type": "code",
   "execution_count": null,
   "id": "d23b7845",
   "metadata": {},
   "outputs": [],
   "source": [
    "import _3_git_file_tracker as tracker\n",
    "\n",
    "back_to_root()\n",
    "\n",
    "# commit-files폴더에 커밋 시점의 수정된 java파일과 그 diff파일들을 저장\n",
    "output_directory = \"commit-files\"\n",
    "if not os.path.exists(output_directory):\n",
    "    os.makedirs(output_directory)\n",
    "    \n",
    "tracker.file_tracker(project_list, output_directory)"
   ]
  },
  {
   "cell_type": "code",
   "execution_count": null,
   "id": "2256ab28",
   "metadata": {},
   "outputs": [],
   "source": [
    "import _4_gpt_responser as responser\n",
    "\n",
    "back_to_root()\n",
    "\n",
    "# gpt-4 모델에 java/diff파일을 질의하여 응답을 {path}_response.txt에 저장\n",
    "gpt_api_model = \"gpt-4\"\n",
    "openai.api_key = responser.get_api_key()\n",
    "\n",
    "working_directory = \"commit-files\"\n",
    "os.chdir(working_directory)\n",
    "\n",
    "for directory in project_list:\n",
    "    os.chdir(directory)\n",
    "    responser.gpt_response_java_files(gpt_api_model)\n",
    "    # responser.gpt_response_diff_files(gpt_api_model)\n",
    "    os.chdir(\"..\")\n",
    "    \n",
    "os.chdir(\"..\")"
   ]
  },
  {
   "cell_type": "code",
   "execution_count": null,
   "id": "91c29dc7",
   "metadata": {},
   "outputs": [],
   "source": [
    "import _5_save2sheet as storer\n",
    "\n",
    "back_to_root()\n",
    "\n",
    "output_directory = \"commit-sheets\"\n",
    "if not os.path.exists(output_directory):\n",
    "    os.makedirs(output_directory)\n",
    "\n",
    "working_directory = \"commit-files\"\n",
    "os.chdir(working_directory)\n",
    "\n",
    "for directory in project_list:\n",
    "    os.chdir(directory)\n",
    "    storer.comits_to_sheet(directory, output_directory)\n",
    "    os.chdir(\"..\")\n",
    "    \n",
    "print(\"모든 작업이 완료되었습니다.\")\n",
    "os.chdir(\"..\")"
   ]
  },
  {
   "cell_type": "code",
   "execution_count": 5,
   "id": "c471572b",
   "metadata": {},
   "outputs": [],
   "source": [
    "back_to_root()"
   ]
  },
  {
   "cell_type": "code",
   "execution_count": 6,
   "id": "67749d31",
   "metadata": {},
   "outputs": [
    {
     "data": {
      "text/plain": [
       "'C:\\\\Users\\\\bjh17\\\\Jupyter\\\\VIChecker'"
      ]
     },
     "execution_count": 6,
     "metadata": {},
     "output_type": "execute_result"
    }
   ],
   "source": [
    "os.getcwd()"
   ]
  },
  {
   "cell_type": "code",
   "execution_count": 7,
   "id": "031ceca7",
   "metadata": {},
   "outputs": [
    {
     "name": "stdout",
     "output_type": "stream",
     "text": [
      "['bc-java', 'pgjdbc', 'junit4', 'h2database', 'gson', 'guava']\n"
     ]
    }
   ],
   "source": [
    "print(project_list)"
   ]
  },
  {
   "cell_type": "code",
   "execution_count": null,
   "id": "de39e0de",
   "metadata": {},
   "outputs": [],
   "source": []
  }
 ],
 "metadata": {
  "kernelspec": {
   "display_name": "Python 3 (ipykernel)",
   "language": "python",
   "name": "python3"
  },
  "language_info": {
   "codemirror_mode": {
    "name": "ipython",
    "version": 3
   },
   "file_extension": ".py",
   "mimetype": "text/x-python",
   "name": "python",
   "nbconvert_exporter": "python",
   "pygments_lexer": "ipython3",
   "version": "3.11.4"
  }
 },
 "nbformat": 4,
 "nbformat_minor": 5
}
