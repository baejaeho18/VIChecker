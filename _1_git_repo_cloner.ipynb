{
 "cells": [
  {
   "cell_type": "code",
   "execution_count": null,
   "id": "f3b5802a",
   "metadata": {},
   "outputs": [],
   "source": [
    "import os\n",
    "import git\n",
    "\n",
    "def get_repo_path(project_list_file):\n",
    "    with open(project_list_file, \"r\") as file:\n",
    "        project_urls = file.readlines()\n",
    "    print(project_urls)\n",
    "    return project_urls\n",
    "\n",
    "def clone_project_and_update_gitignore(project_urls):\n",
    "    project_names = []\n",
    "    \n",
    "    # Clone the repositories and update .gitignore\n",
    "    for project_url in project_urls:\n",
    "        project_url = project_url.strip()  # eliminate empty space and newline character\n",
    "        if project_url:\n",
    "            project_name = project_url.split(\"/\")[-1].rstrip(\".git\")\n",
    "            project_names.append(project_name)\n",
    "    \n",
    "            # cloning project path\n",
    "            clone_folder = os.path.join(os.getcwd(), project_name)\n",
    "\n",
    "            # Check if the repository already exists in the specified folder\n",
    "            if os.path.exists(clone_folder):\n",
    "                # If it exists, fetch the latest changes\n",
    "                repo = git.Repo(clone_folder)\n",
    "                origin = repo.remote(\"origin\")\n",
    "                origin.fetch()\n",
    "                print(project_name, \"successfully fetched, \", end='')\n",
    "            else:\n",
    "                # If it doesn't exist, clone it\n",
    "                git.Repo.clone_from(project_url, clone_folder)\n",
    "                print(project_name, \"successfully cloned,\", end='')\n",
    "\n",
    "            # open and update .gitignore\n",
    "            with open(\".gitignore\", \"a\") as gitignore:\n",
    "                gitignore.write(f\"{project_name}/\\n\")\n",
    "            print(\".gitignore successfully updated.\")\n",
    "            \n",
    "    print(\"Finish all cloning.\")\n",
    "    return project_names\n",
    "\n",
    "if __name__ == \"__main__\":\n",
    "    project_list_file = \"projectLIst.txt\"\n",
    "    project_list = get_repo_path(project_list_file)\n",
    "    clone_project_and_update_gitignore(project_list)"
   ]
  },
  {
   "cell_type": "code",
   "execution_count": null,
   "id": "d0a353aa",
   "metadata": {},
   "outputs": [],
   "source": []
  }
 ],
 "metadata": {
  "kernelspec": {
   "display_name": "Python 3 (ipykernel)",
   "language": "python",
   "name": "python3"
  },
  "language_info": {
   "codemirror_mode": {
    "name": "ipython",
    "version": 3
   },
   "file_extension": ".py",
   "mimetype": "text/x-python",
   "name": "python",
   "nbconvert_exporter": "python",
   "pygments_lexer": "ipython3",
   "version": "3.11.4"
  }
 },
 "nbformat": 4,
 "nbformat_minor": 5
}
