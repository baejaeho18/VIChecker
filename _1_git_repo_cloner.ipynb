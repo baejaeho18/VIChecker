{
 "cells": [
  {
   "cell_type": "code",
   "execution_count": null,
   "id": "f3b5802a",
   "metadata": {},
   "outputs": [],
   "source": [
    "import os\n",
    "import git\n",
    "\n",
    "def get_repo_path(project_list_file):\n",
    "    with open(project_list_file, \"r\") as file:\n",
    "        project_urls = file.readlines()\n",
    "    print(project_urls)\n",
    "    return project_urls\n",
    "\n",
    "def clone_project_and_update_gitignore(project_urls):\n",
    "    project_names = []\n",
    "    \n",
    "    # 각 프로젝트 클론 및 .gitignore 업데이트\n",
    "    for project_url in project_urls:\n",
    "        project_url = project_url.strip()  # 공백과 개행 문자 제거\n",
    "        if project_url:\n",
    "            project_name = project_url.split(\"/\")[-1].rstrip(\".git\")\n",
    "            project_names.append(project_name)\n",
    "    \n",
    "            # 프로젝트 클론 경로\n",
    "            clone_folder = os.path.join(os.getcwd(), project_name)\n",
    "\n",
    "            # Check if the repository already exists in the specified folder\n",
    "            if os.path.exists(clone_folder):\n",
    "                # If it exists, fetch the latest changes\n",
    "                repo = git.Repo(clone_folder)\n",
    "                origin = repo.remote(\"origin\")\n",
    "                origin.fetch()\n",
    "                print(project_name, \"프로젝트를 fetch하고, \", end='')\n",
    "            else:\n",
    "                # If it doesn't exist, clone it\n",
    "                git.Repo.clone_from(project_url, clone_folder)\n",
    "                print(project_name, \"프로젝트를 clone하고,\", end='')\n",
    "\n",
    "            # .gitignore 파일 열고 프로젝트 이름 추가\n",
    "            with open(\".gitignore\", \"a\") as gitignore:\n",
    "                gitignore.write(f\"{project_name}/\\n\")\n",
    "            print(\".gitignore를 업데이트했습니다.\")\n",
    "            \n",
    "    print(\"클론이 모두 완료되었습니다.\")\n",
    "    return project_names\n",
    "\n",
    "if __name__ == \"__main__\":\n",
    "    project_list_file = \"projectLIst.txt\"\n",
    "    project_list = get_repo_path(project_list_file)\n",
    "    clone_project_and_update_gitignore(project_list)"
   ]
  },
  {
   "cell_type": "code",
   "execution_count": null,
   "id": "d0a353aa",
   "metadata": {},
   "outputs": [],
   "source": []
  }
 ],
 "metadata": {
  "kernelspec": {
   "display_name": "Python 3 (ipykernel)",
   "language": "python",
   "name": "python3"
  },
  "language_info": {
   "codemirror_mode": {
    "name": "ipython",
    "version": 3
   },
   "file_extension": ".py",
   "mimetype": "text/x-python",
   "name": "python",
   "nbconvert_exporter": "python",
   "pygments_lexer": "ipython3",
   "version": "3.11.4"
  }
 },
 "nbformat": 4,
 "nbformat_minor": 5
}
