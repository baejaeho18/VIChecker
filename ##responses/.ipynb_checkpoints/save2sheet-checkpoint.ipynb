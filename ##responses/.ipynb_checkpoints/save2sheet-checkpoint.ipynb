{
 "cells": [
  {
   "cell_type": "code",
   "execution_count": 3,
   "id": "7d87125b",
   "metadata": {},
   "outputs": [
    {
     "ename": "ModuleNotFoundError",
     "evalue": "No module named 'gspread'",
     "output_type": "error",
     "traceback": [
      "\u001b[1;31m---------------------------------------------------------------------------\u001b[0m",
      "\u001b[1;31mModuleNotFoundError\u001b[0m                       Traceback (most recent call last)",
      "Input \u001b[1;32mIn [3]\u001b[0m, in \u001b[0;36m<cell line: 2>\u001b[1;34m()\u001b[0m\n\u001b[0;32m      1\u001b[0m \u001b[38;5;28;01mimport\u001b[39;00m \u001b[38;5;21;01mos\u001b[39;00m\n\u001b[1;32m----> 2\u001b[0m \u001b[38;5;28;01mimport\u001b[39;00m \u001b[38;5;21;01mgspread\u001b[39;00m\n\u001b[0;32m      3\u001b[0m \u001b[38;5;28;01mfrom\u001b[39;00m \u001b[38;5;21;01moauth2client\u001b[39;00m\u001b[38;5;21;01m.\u001b[39;00m\u001b[38;5;21;01mservice_account\u001b[39;00m \u001b[38;5;28;01mimport\u001b[39;00m ServiceAccountCredentials\n",
      "\u001b[1;31mModuleNotFoundError\u001b[0m: No module named 'gspread'"
     ]
    }
   ],
   "source": [
    "import os\n",
    "import gspread\n",
    "from oauth2client.service_account import ServiceAccountCredentials"
   ]
  },
  {
   "cell_type": "code",
   "execution_count": 4,
   "id": "d028c462",
   "metadata": {},
   "outputs": [],
   "source": [
    "def read_text_files(directory):\n",
    "    for root, dirs, files in os.walk(directory):\n",
    "        for file in files:\n",
    "            if file.endswith(\".txt\"):  # Process only text files\n",
    "                file_path = os.path.join(root, file)\n",
    "                with open(file_path, 'r', encoding='utf-8') as f:\n",
    "                    content = f.read()\n",
    "                    yield dirs, file, content\n",
    "\n",
    "# Function to update Google Sheet\n",
    "def update_google_sheet(sheet_name, data):\n",
    "    scope = ['https://spreadsheets.google.com/feeds',\n",
    "             'https://www.googleapis.com/auth/drive']\n",
    "\n",
    "    credentials = ServiceAccountCredentials.from_json_keyfile_name('credentials.json', scope)\n",
    "    client = gspread.authorize(credentials)\n",
    "\n",
    "    # Replace 'Your Spreadsheet' with the name of your Google Sheet\n",
    "    sheet = client.open('maven').worksheet(sheet_name)\n",
    "\n",
    "    sheet.clear()  # Clear existing data (optional)\n",
    "    header = ['Directory Name', 'File Name', 'Content']\n",
    "    sheet.append_row(header)\n",
    "\n",
    "    for file, directory, content in data:\n",
    "        row = [directory, file, content]\n",
    "        sheet.append_row(row)"
   ]
  },
  {
   "cell_type": "code",
   "execution_count": null,
   "id": "c06629ce",
   "metadata": {},
   "outputs": [],
   "source": [
    "if __name__ == \"__main__\":\n",
    "    current_directory = \".\"  # Use \".\" for the current directory or specify another path\n",
    "    sheet_name = \"all commits\"  # Replace with the name of your desired sheet\n",
    "    data = read_text_files(current_directory)\n",
    "    update_google_sheet(sheet_name, data)"
   ]
  }
 ],
 "metadata": {
  "kernelspec": {
   "display_name": "Python 3 (ipykernel)",
   "language": "python",
   "name": "python3"
  },
  "language_info": {
   "codemirror_mode": {
    "name": "ipython",
    "version": 3
   },
   "file_extension": ".py",
   "mimetype": "text/x-python",
   "name": "python",
   "nbconvert_exporter": "python",
   "pygments_lexer": "ipython3",
   "version": "3.9.6"
  }
 },
 "nbformat": 4,
 "nbformat_minor": 5
}
