{
 "cells": [
  {
   "cell_type": "code",
   "execution_count": 2,
   "id": "9878fbd0",
   "metadata": {},
   "outputs": [],
   "source": [
    "import os\n",
    "import pandas as pd"
   ]
  },
  {
   "cell_type": "code",
   "execution_count": 5,
   "id": "d1a8d2f0",
   "metadata": {},
   "outputs": [],
   "source": [
    "cnt = 0\n",
    "for commit in json_data:\n",
    "    if cnt > max_commit:\n",
    "        break\n",
    "    elif commit['changed_file_list'] != []:\n",
    "        cnt += 1\n",
    "        print(cnt)\n",
    "    else:\n",
    "        continue\n",
    "        \n",
    "    for file in commit['changed_file_list']:\n",
    "        print(file)\n",
    "        \n",
    "        file_path = os.path.join('commits', f'{cnt}_before_{os.path.basename(file)}')\n",
    "        before_content = read_checkout_file(file_path)\n",
    "\n",
    "        file_path = file_path.replace('.java', '_response.txt')\n",
    "        response_content = read_checkout_file(file_path)\n",
    "        \n",
    "        row_data = {\n",
    "                    \"Repository\":\"pgjdbc\"\n",
    "                    \"Hash Code\":commit['commitHash']\n",
    "                    \"File Name\":file\n",
    "                    \"Content\":before_content\n",
    "                    \"Response\":response_content\n",
    "                    }\n",
    "        df = df.append(row_data, ignore_index=True)\n",
    "    \n",
    "df.to_excel(\"all_commits.xlsx\", index=False)\n",
    "\n",
    "print(\"데이터가 엑셀 파일에 저장되었습니다.\")\n"
   ]
  },
  {
   "cell_type": "code",
   "execution_count": null,
   "id": "91989fc2",
   "metadata": {},
   "outputs": [],
   "source": []
  },
  {
   "cell_type": "code",
   "execution_count": null,
   "id": "b358f40b",
   "metadata": {},
   "outputs": [],
   "source": []
  }
 ],
 "metadata": {
  "kernelspec": {
   "display_name": "Python 3 (ipykernel)",
   "language": "python",
   "name": "python3"
  },
  "language_info": {
   "codemirror_mode": {
    "name": "ipython",
    "version": 3
   },
   "file_extension": ".py",
   "mimetype": "text/x-python",
   "name": "python",
   "nbconvert_exporter": "python",
   "pygments_lexer": "ipython3",
   "version": "3.9.6"
  }
 },
 "nbformat": 4,
 "nbformat_minor": 5
}
