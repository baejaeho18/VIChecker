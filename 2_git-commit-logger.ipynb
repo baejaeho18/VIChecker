{
 "cells": [
  {
   "cell_type": "code",
   "execution_count": 2,
   "id": "c96189da",
   "metadata": {},
   "outputs": [],
   "source": [
    "def commit_logger(project_names):\n",
    "    \n",
    "    for directory in project_names:\n",
    "#         if not os.path.exists(os.path.join(directory, \".git\")):\n",
    "#             print(directory)\n",
    "#             continue  # Git 저장소가 아닌 경우 스킵\n",
    "\n",
    "        os.chdir(directory)  # 리포지토0리 디렉토리로 이동\n",
    "\n",
    "        # 스크립트를 실행하여 Git 로그를 파일로 저장\n",
    "        start_date = \"2021-10-01\"\n",
    "        end_date = \"2023-07-18\"  # 원하는 날짜로 수정\n",
    "        output_file = f\"{directory}-log.json\"\n",
    "\n",
    "        # logger.sh 스크립트 실행\n",
    "        # Shell 스크립트를 실행하고 표준 입력으로 start_date, end_date, output_file을 전달\n",
    "        subprocess.run(['bash', '../logger.sh', start_date, end_date, output_file])\n",
    "        \n",
    "        os.chdir(\"..\")\n",
    "        print(directory, \"의 커밋로그를 저장하였습니다.\")\n",
    "        \n",
    "    print(\"모든 프로젝트의 log.json 파일을 생성하였습니다.\")\n",
    "\n",
    "def validate_log_json_file(project_names, output_directory):\n",
    "    \n",
    "    # 만약 output_directory 디렉토리가 없다면 생성\n",
    "    if not os.path.exists(output_directory):\n",
    "        os.makedirs(output_directory)\n",
    "    \n",
    "    for directory in project_names:\n",
    "        \n",
    "        commits = []\n",
    "        log_file = f\"{directory}-log.json\"\n",
    "        \n",
    "        os.chdir(directory)  # 리포지토0리 디렉토리로 이동\n",
    "        \n",
    "        with open(log_file, \"r\") as f:\n",
    "            try:\n",
    "                log_data = json.load(f)\n",
    "                commits.extend(log_data)\n",
    "            except json.JSONDecodeError:\n",
    "                combined_lines = \"\"\n",
    "                # JSON 파싱 오류가 발생한 경우 줄 단위로 읽어서 이어붙이기\n",
    "                # 여긴 미완성 - 수동으로 일단 하자...\n",
    "        \n",
    "        os.chdir(\"..\")\n",
    "        # validate된 json파일을 \"../{output_directory\"/{log_file}\"에 저장\n",
    "    print(\"모든 json file의 유효성을 검사하였습니다.\")\n",
    "    "
   ]
  },
  {
   "cell_type": "code",
   "execution_count": 28,
   "id": "048d22f1",
   "metadata": {},
   "outputs": [],
   "source": [
    "import os\n",
    "import json\n",
    "import subprocess\n",
    "    \n",
    "def add_changed_file_list(project_names, output_directory):\n",
    "    # 만들어진 json 파일에 changed_file_list 항목을 추가해서 저장\n",
    "    # 필요한 항목만 남겨서 새로 저장 (hash, parent, date, subject, body, changed_file_list)\n",
    "    \n",
    "    for directory in project_names:\n",
    "        commits = []\n",
    "        \n",
    "        log_file = os.path.join(os.getcwd(), output_directory, f\"{directory}-git-log.json\")\n",
    "        with open(log_file, \"r\", encoding='utf-8') as f:\n",
    "            data = f.read()\n",
    "            raw_data = r''+data\n",
    "            try:\n",
    "                commits = json.loads(raw_data)\n",
    "#                 print(commits)\n",
    "            except json.JSONDecodeError as e:\n",
    "                print(f\"JSON 디코드 오류: {e}\")\n",
    "        \n",
    "        os.chdir(directory)\n",
    "        \n",
    "        cnt = 0\n",
    "        for commit in commits:\n",
    "            files = []\n",
    "            java_files = []\n",
    "            commit['changed_file_list'] = []\n",
    "            \n",
    "            changed_file_list = subprocess.run(['git', 'show', commit['commitHash'], '--name-only', '--pretty=format:%b'], capture_output=True, text=True)\n",
    "            if changed_file_list.returncode == 0 and changed_file_list.stdout:\n",
    "                lines = changed_file_list.stdout.split('\\n')\n",
    "                # Process the rest of the code using the 'lines' variable\n",
    "            else:\n",
    "                # Handle the case when the Git command didn't execute successfully\n",
    "                print(\"Failed to get the changed file list of \", commit['commitHash'])\n",
    "            \n",
    "            for line in lines:\n",
    "                if line.strip() in commit['body']:\n",
    "                    continue\n",
    "                elif line.strip() != '':\n",
    "                    files.append(line.strip())\n",
    "\n",
    "            java_files = [file for file in files if file.endswith('.java')]\n",
    "            java_files = list(filter(lambda file: 'src/test' not in file, java_files))\n",
    "            \n",
    "            if java_files != []:\n",
    "                commit['changed_file_list'] = java_files\n",
    "                cnt += 1\n",
    "                # print(commit['commitHash'])\n",
    "                # print(cnt, \":\", commit['changed_file_list'])\n",
    "        \n",
    "        os.chdir(\"..\")\n",
    "        new_log_file = os.path.join(output_directory, f\"{directory}-files-log.json\")\n",
    "        with open(new_log_file, \"w\", encoding='utf-8') as nf:\n",
    "            json.dump(commits, nf, indent=2)\n",
    "        print(directory, \"- log.json 파일에 파일목록을 추가하였습니다.\")\n",
    "        \n",
    "    print(\"모든 json파일을 업데이트하였습니다.\")"
   ]
  },
  {
   "cell_type": "code",
   "execution_count": 33,
   "id": "06a81228",
   "metadata": {},
   "outputs": [
    {
     "name": "stdout",
     "output_type": "stream",
     "text": [
      "h2database -   log.json 파일에 파일목록을 추가하였습니다.\n",
      "bc-java -   log.json 파일에 파일목록을 추가하였습니다.\n"
     ]
    },
    {
     "name": "stderr",
     "output_type": "stream",
     "text": [
      "Exception in thread Thread-19984 (_readerthread):\n",
      "Traceback (most recent call last):\n",
      "  File \"C:\\Users\\bjh17\\anaconda3\\Lib\\threading.py\", line 1038, in _bootstrap_inner\n",
      "    self.run()\n",
      "  File \"C:\\Users\\bjh17\\anaconda3\\Lib\\threading.py\", line 975, in run\n",
      "    self._target(*self._args, **self._kwargs)\n",
      "  File \"C:\\Users\\bjh17\\anaconda3\\Lib\\subprocess.py\", line 1597, in _readerthread\n",
      "    buffer.append(fh.read())\n",
      "                  ^^^^^^^^^\n",
      "UnicodeDecodeError: 'cp949' codec can't decode byte 0xe2 in position 150: illegal multibyte sequence\n"
     ]
    },
    {
     "name": "stdout",
     "output_type": "stream",
     "text": [
      "Failed to get the changed file list of  e3f21bf9472d138e2feb1324ed3d9e23f6645f23\n",
      "pgjdbc -   log.json 파일에 파일목록을 추가하였습니다.\n",
      "junit4 -   log.json 파일에 파일목록을 추가하였습니다.\n"
     ]
    },
    {
     "name": "stderr",
     "output_type": "stream",
     "text": [
      "Exception in thread Thread-20628 (_readerthread):\n",
      "Traceback (most recent call last):\n",
      "  File \"C:\\Users\\bjh17\\anaconda3\\Lib\\threading.py\", line 1038, in _bootstrap_inner\n",
      "    self.run()\n",
      "  File \"C:\\Users\\bjh17\\anaconda3\\Lib\\threading.py\", line 975, in run\n",
      "    self._target(*self._args, **self._kwargs)\n",
      "  File \"C:\\Users\\bjh17\\anaconda3\\Lib\\subprocess.py\", line 1597, in _readerthread\n",
      "    buffer.append(fh.read())\n",
      "                  ^^^^^^^^^\n",
      "UnicodeDecodeError: 'cp949' codec can't decode byte 0xe2 in position 159: illegal multibyte sequence\n"
     ]
    },
    {
     "name": "stdout",
     "output_type": "stream",
     "text": [
      "Failed to get the changed file list of  441406cc780fc5384832b48e382a7c899bac21af\n",
      "gson -   log.json 파일에 파일목록을 추가하였습니다.\n"
     ]
    },
    {
     "name": "stderr",
     "output_type": "stream",
     "text": [
      "Exception in thread Thread-21008 (_readerthread):\n",
      "Traceback (most recent call last):\n",
      "  File \"C:\\Users\\bjh17\\anaconda3\\Lib\\threading.py\", line 1038, in _bootstrap_inner\n",
      "    self.run()\n",
      "  File \"C:\\Users\\bjh17\\anaconda3\\Lib\\threading.py\", line 975, in run\n",
      "    self._target(*self._args, **self._kwargs)\n",
      "  File \"C:\\Users\\bjh17\\anaconda3\\Lib\\subprocess.py\", line 1597, in _readerthread\n",
      "    buffer.append(fh.read())\n",
      "                  ^^^^^^^^^\n",
      "UnicodeDecodeError: 'cp949' codec can't decode byte 0xe2 in position 692: illegal multibyte sequence\n"
     ]
    },
    {
     "name": "stdout",
     "output_type": "stream",
     "text": [
      "Failed to get the changed file list of  65c7f10ff05d072ccbf3e6201d89b988d4f5cfe1\n"
     ]
    },
    {
     "name": "stderr",
     "output_type": "stream",
     "text": [
      "Exception in thread Thread-21098 (_readerthread):\n",
      "Traceback (most recent call last):\n",
      "  File \"C:\\Users\\bjh17\\anaconda3\\Lib\\threading.py\", line 1038, in _bootstrap_inner\n",
      "    self.run()\n",
      "  File \"C:\\Users\\bjh17\\anaconda3\\Lib\\threading.py\", line 975, in run\n",
      "    self._target(*self._args, **self._kwargs)\n",
      "  File \"C:\\Users\\bjh17\\anaconda3\\Lib\\subprocess.py\", line 1597, in _readerthread\n",
      "    buffer.append(fh.read())\n",
      "                  ^^^^^^^^^\n",
      "UnicodeDecodeError: 'cp949' codec can't decode byte 0xe2 in position 632: illegal multibyte sequence\n"
     ]
    },
    {
     "name": "stdout",
     "output_type": "stream",
     "text": [
      "Failed to get the changed file list of  cba0b0aa551be07650cdbc5d627bcf4f896611af\n"
     ]
    },
    {
     "name": "stderr",
     "output_type": "stream",
     "text": [
      "Exception in thread Thread-21560 (_readerthread):\n",
      "Traceback (most recent call last):\n",
      "  File \"C:\\Users\\bjh17\\anaconda3\\Lib\\threading.py\", line 1038, in _bootstrap_inner\n",
      "    self.run()\n",
      "  File \"C:\\Users\\bjh17\\anaconda3\\Lib\\threading.py\", line 975, in run\n",
      "    self._target(*self._args, **self._kwargs)\n",
      "  File \"C:\\Users\\bjh17\\anaconda3\\Lib\\subprocess.py\", line 1597, in _readerthread\n",
      "    buffer.append(fh.read())\n",
      "                  ^^^^^^^^^\n",
      "UnicodeDecodeError: 'cp949' codec can't decode byte 0xe2 in position 118: illegal multibyte sequence\n"
     ]
    },
    {
     "name": "stdout",
     "output_type": "stream",
     "text": [
      "Failed to get the changed file list of  f2bb1718f800a2486527b0bf5d83218945d3d9f1\n"
     ]
    },
    {
     "name": "stderr",
     "output_type": "stream",
     "text": [
      "Exception in thread Thread-21754 (_readerthread):\n",
      "Traceback (most recent call last):\n",
      "  File \"C:\\Users\\bjh17\\anaconda3\\Lib\\threading.py\", line 1038, in _bootstrap_inner\n",
      "    self.run()\n",
      "  File \"C:\\Users\\bjh17\\anaconda3\\Lib\\threading.py\", line 975, in run\n",
      "    self._target(*self._args, **self._kwargs)\n",
      "  File \"C:\\Users\\bjh17\\anaconda3\\Lib\\subprocess.py\", line 1597, in _readerthread\n",
      "    buffer.append(fh.read())\n",
      "                  ^^^^^^^^^\n",
      "UnicodeDecodeError: 'cp949' codec can't decode byte 0xe2 in position 327: illegal multibyte sequence\n"
     ]
    },
    {
     "name": "stdout",
     "output_type": "stream",
     "text": [
      "Failed to get the changed file list of  dd462afa6b871397ca9f4ca3927cc7946fc343a0\n",
      "guava -   log.json 파일에 파일목록을 추가하였습니다.\n",
      "모든 json파일을 업데이트하였습니다.\n"
     ]
    }
   ],
   "source": [
    "if __name__ == \"__main__\":\n",
    "    directories = [\"h2database\", \"bc-java\", \"pgjdbc\", \"junit4\", \"gson\", \"guava\"]\n",
    "    output_directory = \"commit-logs\"\n",
    "    # commit_logger(directories)\n",
    "    add_changed_file_list(directories, output_directory)"
   ]
  },
  {
   "cell_type": "code",
   "execution_count": 32,
   "id": "e9fb574e",
   "metadata": {},
   "outputs": [
    {
     "data": {
      "text/plain": [
       "'C:\\\\Users\\\\bjh17\\\\Jupyter\\\\VIChecker'"
      ]
     },
     "execution_count": 32,
     "metadata": {},
     "output_type": "execute_result"
    }
   ],
   "source": [
    "os.getcwd()"
   ]
  },
  {
   "cell_type": "code",
   "execution_count": 31,
   "id": "28e86f16",
   "metadata": {},
   "outputs": [],
   "source": [
    "os.chdir(\"..\")"
   ]
  },
  {
   "cell_type": "code",
   "execution_count": null,
   "id": "2549066f",
   "metadata": {},
   "outputs": [],
   "source": []
  }
 ],
 "metadata": {
  "kernelspec": {
   "display_name": "Python 3 (ipykernel)",
   "language": "python",
   "name": "python3"
  },
  "language_info": {
   "codemirror_mode": {
    "name": "ipython",
    "version": 3
   },
   "file_extension": ".py",
   "mimetype": "text/x-python",
   "name": "python",
   "nbconvert_exporter": "python",
   "pygments_lexer": "ipython3",
   "version": "3.11.4"
  }
 },
 "nbformat": 4,
 "nbformat_minor": 5
}
