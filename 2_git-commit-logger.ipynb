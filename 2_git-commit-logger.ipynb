{
 "cells": [
  {
   "cell_type": "code",
   "execution_count": 4,
   "id": "7ca85ff8",
   "metadata": {},
   "outputs": [
    {
     "ename": "SyntaxError",
     "evalue": "unexpected character after line continuation character (473418968.py, line 31)",
     "output_type": "error",
     "traceback": [
      "\u001b[1;36m  Cell \u001b[1;32mIn[4], line 31\u001b[1;36m\u001b[0m\n\u001b[1;33m    \"'| sed 's/\"/\\\\\"/g' | sed 's/\\^^^^/\"/g' | sed \"$ s/,$//\" | sed -e ':a' -e 'N' -e '$!ba' -e 's/\\n/ /g' | tr -d '\\r\\n' | tr -d '\t' | tr -d '\t' | awk 'BEGIN { print(\"[\") } { print($0) } END { print(\"]\") }'\",\u001b[0m\n\u001b[1;37m                  ^\u001b[0m\n\u001b[1;31mSyntaxError\u001b[0m\u001b[1;31m:\u001b[0m unexpected character after line continuation character\n"
     ]
    }
   ],
   "source": [
    "import os\n",
    "import subprocess\n",
    "import json\n",
    "\n",
    "# 현재 디렉토리에서 모든 하위 디렉토리 가져오기\n",
    "\n",
    "def commit_logger(project_names):\n",
    "    output_directory = \"commit-logs\"\n",
    "\n",
    "    # 만약 output_directory 디렉토리가 없다면 생성\n",
    "    if not os.path.exists(output_directory):\n",
    "        os.makedirs(output_directory)\n",
    "    \n",
    "    for directory in project_names:\n",
    "        if not os.path.exists(os.path.join(directory, \".git\")):\n",
    "            continue  # Git 저장소가 아닌 경우 스킵\n",
    "\n",
    "        os.chdir(directory)  # 리포지토0리 디렉토리로 이동\n",
    "\n",
    "        # 스크립트를 실행하여 Git 로그를 파일로 저장\n",
    "        start_date = \"2021-10-01\"\n",
    "        end_date = \"2023-07-18\"  # 원하는 날짜로 수정\n",
    "        output_file = f\"{directory}-log.json\"\n",
    "\n",
    "        git_log_command = [\n",
    "            \"git\",\n",
    "            \"log\",\n",
    "            f\"--since={start_date}\",\n",
    "            f\"--until={end_date}\",\n",
    "            \"--pretty=format:{%n  ^^^^commitHash^^^^: ^^^^%H^^^^,  %n  ^^^^parent^^^^: ^^^^%P^^^^,  %n  ^^^^subject^^^^: ^^^^%s^^^^,  %n  ^^^^sanitized_subject_line^^^^: ^^^^%f^^^^,  %n  ^^^^commit_notes^^^^: ^^^^%N^^^^,  %n  ^^^^body^^^^: ^^^^%b^^^^,  %n  ^^^^author_name^^^^: ^^^^%aN^^^^,  ^^^^committer_name^^^^: ^^^^%cN^^^^,%n    ^^^^date^^^^: ^^^^%cD^^^^%n},\"\n",
    "            \"'| sed 's/\"/\\\\\"/g' | sed 's/\\^^^^/\"/g' | sed \"$ s/,$//\" | sed -e ':a' -e 'N' -e '$!ba' -e 's/\\n/ /g' | tr -d '\\r\\n' | tr -d '\t' | tr -d '\t' | awk 'BEGIN { print(\"[\") } { print($0) } END { print(\"]\") }'\",\n",
    "            \">\",\n",
    "            f\"{output_file}\"\n",
    "        ]\n",
    "\n",
    "        # Git 로그를 파일로 저장\n",
    "        with open(output_file, \"w\") as log_file:\n",
    "            subprocess.call(git_log_command, stdout=log_file, universal_newlines=True, shell=True)\n",
    "\n",
    "        os.chdir(\"..\")  # 리포지토리 디렉토리에서 나감\n",
    "\n",
    "    # 모든 로그 파일을 읽어와서 JSON 형식으로 변환\n",
    "    commits = []\n",
    "    for directory in project_names:\n",
    "        log_file = f\"{directory}-log.json\"\n",
    "        with open(log_file, \"r\") as f:\n",
    "            try:\n",
    "                log_data = json.load(f)\n",
    "                commits.extend(log_data)\n",
    "            except json.JSONDecodeError:\n",
    "                # JSON 파싱 오류가 발생한 경우 줄 단위로 읽어서 이어붙이기\n",
    "                with open(log_file, \"r\") as f:\n",
    "                    lines = f.readlines()\n",
    "                    combined_lines = \"\"\n",
    "                    for line in lines:\n",
    "                        # \"\\\"를 \"\\\\\"로 치환\n",
    "                        line = line.replace(\"\\\\\", \"\\\\\\\\\")\n",
    "                        combined_lines += line.strip()\n",
    "                        try:\n",
    "                            log_data = json.loads(combined_lines)\n",
    "                            commits.extend(log_data)\n",
    "                            combined_lines = \"\"\n",
    "                        except json.JSONDecodeError:\n",
    "                            continue\n",
    "\n",
    "    # 최종 commits 리스트에 저장\n",
    "    output_path = os.path.join(output_directory, \"all-commits.json\")\n",
    "    with open(output_path, \"w\") as f:\n",
    "        json.dump(commits, f, indent=2)\n",
    "\n",
    "    print(\"모든 리포지토리의 Git 로그를 JSON 파일로 저장하고 병합하였습니다.\")\n",
    "\n",
    "if __name__ == \"__main__\":\n",
    "    directories = [\"bc-java\", \"pgjdbc\", \"junit4\", \"h2database\", \"gson\", \"guava\"]\n",
    "    commit_logger(directories)\n"
   ]
  },
  {
   "cell_type": "code",
   "execution_count": null,
   "id": "7444e834",
   "metadata": {},
   "outputs": [],
   "source": []
  }
 ],
 "metadata": {
  "kernelspec": {
   "display_name": "Python 3 (ipykernel)",
   "language": "python",
   "name": "python3"
  },
  "language_info": {
   "codemirror_mode": {
    "name": "ipython",
    "version": 3
   },
   "file_extension": ".py",
   "mimetype": "text/x-python",
   "name": "python",
   "nbconvert_exporter": "python",
   "pygments_lexer": "ipython3",
   "version": "3.11.4"
  }
 },
 "nbformat": 4,
 "nbformat_minor": 5
}
