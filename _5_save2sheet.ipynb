{
 "cells": [
  {
   "cell_type": "code",
   "execution_count": null,
   "id": "48799087",
   "metadata": {},
   "outputs": [],
   "source": [
    "import os\n",
    "import json\n",
    "import pandas as pd\n",
    "\n",
    "def read_file(file):\n",
    "    try:\n",
    "        with open(file, 'r', encoding='utf-8') as f:\n",
    "            content = f.read()\n",
    "    except Exception as e:\n",
    "        print(f\"File Open Error:\", str(e))\n",
    "        content = ''\n",
    "    return content\n",
    "\n",
    "def commits_to_sheet(directory, output_directory, option):\n",
    "    output_file = os.path.join(\"..\", \"..\", output_directory, f\"{directory}_{option}.xlsx\")\n",
    "    \n",
    "    try:\n",
    "        df = pd.read_excel(output_file)\n",
    "    except FileNotFoundError:\n",
    "        df = pd.DataFrame()\n",
    "\n",
    "    cnt = 0\n",
    "    commits = []\n",
    "    log_file = os.path.join(\"..\", \"..\", \"commit-logs\", f\"{directory}-files-log.json\")\n",
    "    with open(log_file, \"r\", encoding='utf-8') as f:\n",
    "        data = f.read()\n",
    "        raw_data = r''+data\n",
    "        try:\n",
    "            commits = json.loads(raw_data)\n",
    "        except json.JSONDecodeError as e:\n",
    "            print(f\"JSON Decode Error: {e}\")\n",
    "    \n",
    "    for commit in commits:\n",
    "        if commit['changed_file_list'] != []:\n",
    "            cnt += 1\n",
    "            print(cnt)\n",
    "        else:\n",
    "            continue\n",
    "\n",
    "        for file in commit['changed_file_list']:\n",
    "            print(file)\n",
    "        \n",
    "            sanitized_path = file.replace(\"/\", \"_\")\n",
    "            file_path = f'{cnt}_{option}_{sanitized_path}'\n",
    "            file_content = read_file(file_path)\n",
    "\n",
    "            response_file_path = file_path.replace('.java', '_response.txt')\n",
    "            response_content = read_file(response_file_path)\n",
    "\n",
    "            row_data = {\n",
    "                        \"Repository\":directory,\n",
    "                        \"Hash Code\":commit['commitHash'],\n",
    "                        \"File Name\":file,\n",
    "                        \"Content\":file_content,\n",
    "                        \"Response\":response_content\n",
    "                        }\n",
    "            df = df.append(row_data, ignore_index=True)\n",
    "\n",
    "    df.to_excel(output_file, index=False)\n",
    "\n",
    "    print(directory, \"Data has been saved to an Excel file.\")\n"
   ]
  },
  {
   "cell_type": "code",
   "execution_count": null,
   "id": "8b323645",
   "metadata": {},
   "outputs": [],
   "source": [
    "if __name__ == \"__main__\":\n",
    "    directories = [\"pgjdbc\", \"junit4\", \"gson\", \"guava\", \"h2database\", \"bc-java\"]\n",
    "    working_directory = \"commit-files\"\n",
    "    output_directory = \"commit-sheets\"\n",
    "    \n",
    "    if not os.path.exists(output_directory):\n",
    "        os.makedirs(output_directory)\n",
    "    \n",
    "    # Assuming it was already created in step 3\n",
    "    os.chdir(working_directory)\n",
    "    \n",
    "    for directory in directories:\n",
    "        os.chdir(directory)\n",
    "        commits_to_sheet(directory, output_directory, \"diff\")\n",
    "        os.chdir(\"..\")\n",
    "    \n",
    "    print(\"All tasks have been completed.\")        \n",
    "    os.chdir(\"..\")\n"
   ]
  },
  {
   "cell_type": "code",
   "execution_count": null,
   "id": "608ed53e",
   "metadata": {},
   "outputs": [],
   "source": [
    "os.getcwd()"
   ]
  },
  {
   "cell_type": "code",
   "execution_count": null,
   "id": "03934d92",
   "metadata": {},
   "outputs": [],
   "source": [
    "os.chdir(\"..\")\n",
    "os.chdir(\"..\")"
   ]
  },
  {
   "cell_type": "code",
   "execution_count": null,
   "id": "e72d9d6e",
   "metadata": {},
   "outputs": [],
   "source": []
  }
 ],
 "metadata": {
  "kernelspec": {
   "display_name": "Python 3 (ipykernel)",
   "language": "python",
   "name": "python3"
  },
  "language_info": {
   "codemirror_mode": {
    "name": "ipython",
    "version": 3
   },
   "file_extension": ".py",
   "mimetype": "text/x-python",
   "name": "python",
   "nbconvert_exporter": "python",
   "pygments_lexer": "ipython3",
   "version": "3.11.4"
  }
 },
 "nbformat": 4,
 "nbformat_minor": 5
}
